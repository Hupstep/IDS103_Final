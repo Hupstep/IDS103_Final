{
 "cells": [
  {
   "cell_type": "code",
   "execution_count": 5,
   "metadata": {
    "id": "JQQKkdMa2HD9"
   },
   "outputs": [],
   "source": [
    "# Following libraries will be loaded so that these can be applied in codes.\n",
    "\n",
    "import numpy as np\n",
    "import pandas as pd\n",
    "import matplotlib.pyplot as plt\n",
    "import random\n",
    "import scipy.stats as stats"
   ]
  },
  {
   "cell_type": "code",
   "execution_count": 6,
   "metadata": {
    "colab": {
     "base_uri": "https://localhost:8080/",
     "height": 206
    },
    "id": "kzcIeENS5KUA",
    "outputId": "e83731a2-8ad4-4b9f-907a-46c7d43a0b8f",
    "scrolled": true
   },
   "outputs": [
    {
     "data": {
      "text/html": [
       "<div>\n",
       "<style scoped>\n",
       "    .dataframe tbody tr th:only-of-type {\n",
       "        vertical-align: middle;\n",
       "    }\n",
       "\n",
       "    .dataframe tbody tr th {\n",
       "        vertical-align: top;\n",
       "    }\n",
       "\n",
       "    .dataframe thead th {\n",
       "        text-align: right;\n",
       "    }\n",
       "</style>\n",
       "<table border=\"1\" class=\"dataframe\">\n",
       "  <thead>\n",
       "    <tr style=\"text-align: right;\">\n",
       "      <th></th>\n",
       "      <th>Unnamed: 0.2</th>\n",
       "      <th>Unnamed: 0.1</th>\n",
       "      <th>Unnamed: 0</th>\n",
       "      <th>age</th>\n",
       "      <th>sex</th>\n",
       "      <th>bmi</th>\n",
       "      <th>children</th>\n",
       "      <th>smoker</th>\n",
       "      <th>region</th>\n",
       "      <th>charges</th>\n",
       "    </tr>\n",
       "  </thead>\n",
       "  <tbody>\n",
       "    <tr>\n",
       "      <th>0</th>\n",
       "      <td>0</td>\n",
       "      <td>0</td>\n",
       "      <td>215</td>\n",
       "      <td>41</td>\n",
       "      <td>female</td>\n",
       "      <td>37.100</td>\n",
       "      <td>2</td>\n",
       "      <td>no</td>\n",
       "      <td>southwest</td>\n",
       "      <td>7371.77200</td>\n",
       "    </tr>\n",
       "    <tr>\n",
       "      <th>1</th>\n",
       "      <td>1</td>\n",
       "      <td>1</td>\n",
       "      <td>106</td>\n",
       "      <td>19</td>\n",
       "      <td>female</td>\n",
       "      <td>28.400</td>\n",
       "      <td>1</td>\n",
       "      <td>no</td>\n",
       "      <td>southwest</td>\n",
       "      <td>2331.51900</td>\n",
       "    </tr>\n",
       "    <tr>\n",
       "      <th>2</th>\n",
       "      <td>2</td>\n",
       "      <td>2</td>\n",
       "      <td>576</td>\n",
       "      <td>22</td>\n",
       "      <td>male</td>\n",
       "      <td>26.840</td>\n",
       "      <td>0</td>\n",
       "      <td>no</td>\n",
       "      <td>southeast</td>\n",
       "      <td>1664.99960</td>\n",
       "    </tr>\n",
       "    <tr>\n",
       "      <th>3</th>\n",
       "      <td>3</td>\n",
       "      <td>3</td>\n",
       "      <td>1325</td>\n",
       "      <td>61</td>\n",
       "      <td>male</td>\n",
       "      <td>33.535</td>\n",
       "      <td>0</td>\n",
       "      <td>no</td>\n",
       "      <td>northeast</td>\n",
       "      <td>13143.33665</td>\n",
       "    </tr>\n",
       "    <tr>\n",
       "      <th>4</th>\n",
       "      <td>4</td>\n",
       "      <td>4</td>\n",
       "      <td>1320</td>\n",
       "      <td>31</td>\n",
       "      <td>male</td>\n",
       "      <td>31.065</td>\n",
       "      <td>3</td>\n",
       "      <td>no</td>\n",
       "      <td>northwest</td>\n",
       "      <td>5425.02335</td>\n",
       "    </tr>\n",
       "  </tbody>\n",
       "</table>\n",
       "</div>"
      ],
      "text/plain": [
       "   Unnamed: 0.2  Unnamed: 0.1  Unnamed: 0  age     sex     bmi  children  \\\n",
       "0             0             0         215   41  female  37.100         2   \n",
       "1             1             1         106   19  female  28.400         1   \n",
       "2             2             2         576   22    male  26.840         0   \n",
       "3             3             3        1325   61    male  33.535         0   \n",
       "4             4             4        1320   31    male  31.065         3   \n",
       "\n",
       "  smoker     region      charges  \n",
       "0     no  southwest   7371.77200  \n",
       "1     no  southwest   2331.51900  \n",
       "2     no  southeast   1664.99960  \n",
       "3     no  northeast  13143.33665  \n",
       "4     no  northwest   5425.02335  "
      ]
     },
     "execution_count": 6,
     "metadata": {},
     "output_type": "execute_result"
    }
   ],
   "source": [
    "# This code gives you a random sample of size 300 to analyze and solve questions.\n",
    "\n",
    "# Replace Name3 with your group name (e.g. pro-minds, techteam, etc). The code will generate a csv file with that name that you need to submit in the zip folder as secondary file.\n",
    "\n",
    "#try:\n",
    "#    df = pd.read_csv('Team5.csv')        # replace Name3 with your own name\n",
    "#except FileNotFoundError:\n",
    "#    original_data = pd.read_csv(\"https://raw.githubusercontent.com/zu-math/final/main/insurance.csv\")\n",
    "#    df1=original_data.sample(300)\n",
    "#    df1.to_csv('Team5.csv')                   # replace Name3 with your own name\n",
    "#    df = pd.read_csv('Team5.csv')             # replace Name3 with your own name\n",
    "#    df = pd.DataFrame(df)\n",
    "#    df.to_csv('Team5.csv')                    # replace Name3 with your own name\n",
    "\n",
    "#df.head()    # This only displays the first five entries of sample."
   ]
  },
  {
   "cell_type": "code",
   "execution_count": 8,
   "metadata": {
    "colab": {
     "base_uri": "https://localhost:8080/",
     "height": 823
    },
    "id": "kvlIzE-b6oIj",
    "outputId": "fc95fa3c-46b7-4bab-a57b-6c4825ae8792"
   },
   "outputs": [
    {
     "name": "stdout",
     "output_type": "stream",
     "text": [
      "Descriptive Statistics for Male\n",
      "count      145.000000\n",
      "mean     13214.077307\n",
      "std      12377.786735\n",
      "min       1136.399400\n",
      "25%       5031.269550\n",
      "50%       9957.721600\n",
      "75%      14358.364370\n",
      "max      62592.873090\n",
      "Name: charges, dtype: float64\n",
      "Descriptive Statistics for Female\n",
      "count      155.000000\n",
      "mean     12387.274151\n",
      "std      10254.652851\n",
      "min       1634.573400\n",
      "25%       4972.059000\n",
      "50%       9704.668050\n",
      "75%      14498.982325\n",
      "max      48517.563150\n",
      "Name: charges, dtype: float64\n"
     ]
    },
    {
     "name": "stderr",
     "output_type": "stream",
     "text": [
      "C:\\Users\\Hessa\\AppData\\Local\\Temp\\ipykernel_16900\\3171216363.py:12: UserWarning: FixedFormatter should only be used together with FixedLocator\n",
      "  ax.set_xticklabels(['male', 'female'])\n"
     ]
    },
    {
     "data": {
      "image/png": "[encoded data removed]",
      "text/plain": [
       "<Figure size 640x480 with 1 Axes>"
      ]
     },
     "metadata": {},
     "output_type": "display_data"
    }
   ],
   "source": [
    "import pandas\n",
    "import matplotlib.pyplot as plt\n",
    "from numpy import percentile\n",
    "male=df[df[\"sex\"]==\"male\"]\n",
    "female=df[df[\"sex\"]==\"female\"]\n",
    "\n",
    "#create boxplots side by side\n",
    "data1=male['charges']\n",
    "data2=female['charges']\n",
    "data = list([data1, data2])\n",
    "fig, ax = plt.subplots()\n",
    "ax.set_xticklabels(['male', 'female'])\n",
    "plt.grid(axis=\"y\")\n",
    "plt.boxplot(data)\n",
    "#descriptive statistics\n",
    "print (\"Descriptive Statistics for Male\")\n",
    "print(male['charges'].describe())\n",
    "print (\"Descriptive Statistics for Female\")\n",
    "print(female['charges'].describe())"
   ]
  },
  {
   "cell_type": "code",
   "execution_count": 10,
   "metadata": {
    "colab": {
     "base_uri": "https://localhost:8080/"
    },
    "id": "uumwRsvm5bKw",
    "outputId": "219fca17-8503-4c16-f7b3-d3526766be9c"
   },
   "outputs": [
    {
     "name": "stdout",
     "output_type": "stream",
     "text": [
      "T-statistic value:  0.6316068923429987\n",
      "P-Value:  0.5281279789890159\n"
     ]
    }
   ],
   "source": [
    "import scipy.stats as stats\n",
    "import pandas\n",
    "df = pandas.read_csv(\"Team5.csv\")\n",
    "# perform two sample t-test\n",
    "male = df.loc[df[\"sex\"]==\"male\", \"charges\"]\n",
    "female = df.loc[df[\"sex\"]==\"female\", \"charges\"]\n",
    "t_stat, p_value = stats.ttest_ind(male, female)\n",
    "print(\"T-statistic value: \", t_stat)\n",
    "print(\"P-Value: \", p_value)"
   ]
  },
  {
   "cell_type": "code",
   "execution_count": 11,
   "metadata": {
    "colab": {
     "base_uri": "https://localhost:8080/"
    },
    "id": "Ef9lKAQYA8_L",
    "outputId": "a3973e60-3b02-46c5-923a-be990de72f3b"
   },
   "outputs": [
    {
     "name": "stdout",
     "output_type": "stream",
     "text": [
      "(-1766.088810533965, 3419.69512190215)\n"
     ]
    }
   ],
   "source": [
    "import statsmodels.stats.api as sm\n",
    "import pandas\n",
    "df = pandas.read_csv(\"Team5.csv\")\n",
    "X1 = df.loc[df[\"sex\"]==\"male\", \"charges\"]\n",
    "X2 = df.loc[df[\"sex\"]==\"female\", \"charges\"]\n",
    "cm = sm.CompareMeans(sm.DescrStatsW(X1), sm.DescrStatsW(X2))\n",
    "print (cm.tconfint_diff(alpha=0.05, usevar='unequal'))"
   ]
  },
  {
   "cell_type": "code",
   "execution_count": null,
   "metadata": {},
   "outputs": [],
   "source": []
  }
 ],
 "metadata": {
  "colab": {
   "provenance": []
  },
  "kernelspec": {
   "display_name": "Python 3 (ipykernel)",
   "language": "python",
   "name": "python3"
  },
  "language_info": {
   "codemirror_mode": {
    "name": "ipython",
    "version": 3
   },
   "file_extension": ".py",
   "mimetype": "text/x-python",
   "name": "python",
   "nbconvert_exporter": "python",
   "pygments_lexer": "ipython3",
   "version": "3.9.13"
  }
 },
 "nbformat": 4,
 "nbformat_minor": 1
}
